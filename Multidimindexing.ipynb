{
 "cells": [
  {
   "cell_type": "code",
   "execution_count": 1,
   "id": "eaae3e70-6616-41d7-8dfa-f2ffb3771d50",
   "metadata": {},
   "outputs": [],
   "source": [
    "import numpy as np"
   ]
  },
  {
   "cell_type": "code",
   "execution_count": null,
   "id": "49552876-0c14-4e97-810e-dbc93d5ec598",
   "metadata": {},
   "outputs": [],
   "source": [
    "#Understanding Axes in NumPy\n",
    "#1D array → 1 axis (axis 0)\n",
    "#2D array → 2 axes (axis 0 = rows, axis 1 = columns)\n",
    "#3D array → 3 axes (axis 0 = depth, axis 1 = rows, axis 2 = columns)"
   ]
  },
  {
   "cell_type": "code",
   "execution_count": 3,
   "id": "962ac6a4-fdf6-40cc-89e6-a34db6e7a8ad",
   "metadata": {},
   "outputs": [
    {
     "data": {
      "text/plain": [
       "array([[1, 2, 3],\n",
       "       [4, 5, 6],\n",
       "       [7, 8, 9]])"
      ]
     },
     "execution_count": 3,
     "metadata": {},
     "output_type": "execute_result"
    }
   ],
   "source": [
    "arr = np.array([[1,2,3],[4,5,6],[7,8,9]])\n",
    "arr"
   ]
  },
  {
   "cell_type": "code",
   "execution_count": 5,
   "id": "2e92136a-f560-42a2-95e3-8d9e0d2f3857",
   "metadata": {},
   "outputs": [
    {
     "data": {
      "text/plain": [
       "array([1, 2, 3])"
      ]
     },
     "execution_count": 5,
     "metadata": {},
     "output_type": "execute_result"
    }
   ],
   "source": [
    "arr[0]"
   ]
  },
  {
   "cell_type": "code",
   "execution_count": 7,
   "id": "53658e46-6679-452e-9410-c38ce0d70e34",
   "metadata": {},
   "outputs": [
    {
     "data": {
      "text/plain": [
       "array([4, 5, 6])"
      ]
     },
     "execution_count": 7,
     "metadata": {},
     "output_type": "execute_result"
    }
   ],
   "source": [
    "arr[1]"
   ]
  },
  {
   "cell_type": "code",
   "execution_count": 25,
   "id": "7c316016-f89e-4b94-b952-a8be3e7eaee3",
   "metadata": {},
   "outputs": [
    {
     "data": {
      "text/plain": [
       "array([12, 15, 18])"
      ]
     },
     "execution_count": 25,
     "metadata": {},
     "output_type": "execute_result"
    }
   ],
   "source": [
    "#Axes in a 2D Array\n",
    "np.sum(arr,axis=0)# Sum along rows (down each column)"
   ]
  },
  {
   "cell_type": "code",
   "execution_count": 27,
   "id": "20bc9e67-e4eb-418f-aedf-563901b4e540",
   "metadata": {},
   "outputs": [
    {
     "data": {
      "text/plain": [
       "array([ 6, 15, 24])"
      ]
     },
     "execution_count": 27,
     "metadata": {},
     "output_type": "execute_result"
    }
   ],
   "source": [
    "np.sum(arr,axis=1)# Sum along columns (across each row)"
   ]
  },
  {
   "cell_type": "code",
   "execution_count": 13,
   "id": "8cd2b492-4607-4c96-b526-5231b5170eeb",
   "metadata": {},
   "outputs": [
    {
     "name": "stdout",
     "output_type": "stream",
     "text": [
      "6\n"
     ]
    }
   ],
   "source": [
    "#Indexing in Multidimensional Arrays\n",
    "# Row index 1, Column index 2 → Output: 6 [4,5,6] is row index 1 and 6 is the 2nd elemnt col wise\n",
    "print(arr[1,2])"
   ]
  },
  {
   "cell_type": "code",
   "execution_count": 15,
   "id": "1c729ed8-126e-4212-80cb-b7ca2fae789f",
   "metadata": {},
   "outputs": [
    {
     "data": {
      "text/plain": [
       "array([[2, 3],\n",
       "       [5, 6]])"
      ]
     },
     "execution_count": 15,
     "metadata": {},
     "output_type": "execute_result"
    }
   ],
   "source": [
    "arr[0:2,1:3]"
   ]
  },
  {
   "cell_type": "code",
   "execution_count": 41,
   "id": "218d66d8-f163-4bf2-bd6d-14d1e21624c7",
   "metadata": {},
   "outputs": [
    {
     "name": "stdout",
     "output_type": "stream",
     "text": [
      "[[[ 1  2  3]\n",
      "  [ 4  5  6]]\n",
      "\n",
      " [[ 7  8  9]\n",
      "  [10 11 12]]]\n",
      "(2, 2, 3)\n"
     ]
    }
   ],
   "source": [
    "#Indexing in 3D Arrays\n",
    "arr3D = np.array([\n",
    "    [[1,2,3],\n",
    "    [4,5,6]],\n",
    "    \n",
    "[[7,8,9],\n",
    "[10,11,12]]\n",
    "])\n",
    "print(arr3D)\n",
    "# Output of arr3D.shape is → (depth, rows, columns)\n",
    "print(arr3d.shape)"
   ]
  },
  {
   "cell_type": "code",
   "execution_count": 43,
   "id": "5ee2f995-bd44-4a7b-a8fe-884fdbb43385",
   "metadata": {},
   "outputs": [
    {
     "name": "stdout",
     "output_type": "stream",
     "text": [
      "6\n",
      "[[1 2 3]\n",
      " [7 8 9]]\n"
     ]
    }
   ],
   "source": [
    "# First sheet, second row, third column\n",
    "print(arr3D[0, 1, 2])  # Output: 6\n",
    "\n",
    "print(arr3D[:, 0, :])   # Get the first row from both sheets"
   ]
  },
  {
   "cell_type": "code",
   "execution_count": 45,
   "id": "bf8fbabb-d6eb-4b74-a981-607e1eab84c9",
   "metadata": {},
   "outputs": [
    {
     "name": "stdout",
     "output_type": "stream",
     "text": [
      "[1 4 7]\n"
     ]
    }
   ],
   "source": [
    "#Practical Example: Selecting Data Along Axes\n",
    "# Get all rows of the first column\n",
    "first_col = arr[:, 0]\n",
    "print(first_col)  # Output: [1 4 7]"
   ]
  },
  {
   "cell_type": "code",
   "execution_count": 47,
   "id": "5aa3150e-b790-4327-a5fc-6d89fb5c81f8",
   "metadata": {},
   "outputs": [
    {
     "name": "stdout",
     "output_type": "stream",
     "text": [
      "[[1 2 3]\n",
      " [7 8 9]]\n"
     ]
    }
   ],
   "source": [
    "# Get the first row from each \"sheet\" in a 3D array\n",
    "first_rows = arr3D[:, 0, :]\n",
    "print(first_rows)"
   ]
  },
  {
   "cell_type": "code",
   "execution_count": 49,
   "id": "b848c634-2536-4551-be82-89072617c189",
   "metadata": {},
   "outputs": [
    {
     "name": "stdout",
     "output_type": "stream",
     "text": [
      "[[1 0 3]\n",
      " [4 0 6]\n",
      " [7 0 9]]\n"
     ]
    }
   ],
   "source": [
    "#Changing Data Along an Axis\n",
    "# Replace all elements in column 1 with 0\n",
    "arr[:, 1] = 0\n",
    "print(arr)"
   ]
  },
  {
   "cell_type": "code",
   "execution_count": 51,
   "id": "81c3bd4e-09c2-4ac9-b4d3-31ec70fff4b7",
   "metadata": {},
   "outputs": [
    {
     "name": "stdout",
     "output_type": "stream",
     "text": [
      "[[[ 0  0  0]\n",
      "  [ 4  5  6]]\n",
      "\n",
      " [[ 0  0  0]\n",
      "  [10 11 12]]]\n"
     ]
    }
   ],
   "source": [
    "arr3D[:,0,:]=0\n",
    "print(arr3D)"
   ]
  }
 ],
 "metadata": {
  "kernelspec": {
   "display_name": "Python [conda env:base] *",
   "language": "python",
   "name": "conda-base-py"
  },
  "language_info": {
   "codemirror_mode": {
    "name": "ipython",
    "version": 3
   },
   "file_extension": ".py",
   "mimetype": "text/x-python",
   "name": "python",
   "nbconvert_exporter": "python",
   "pygments_lexer": "ipython3",
   "version": "3.12.7"
  }
 },
 "nbformat": 4,
 "nbformat_minor": 5
}
