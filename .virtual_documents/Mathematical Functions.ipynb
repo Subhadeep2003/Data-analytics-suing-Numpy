import numpy as np


arr = np.array([3,5,2,33])


# Compute the mean (average) of an array.
np.mean(arr)


#Compute the standard deviation of an array.
np.std(arr)


#Compute the variance of an array.
np.var(arr)


#Compute the minimum value of an array.
np.min(arr)


#Compute the maximum value of an array.
np.max(arr)


# Compute the sum of all elements in an array.
np.sum(arr)


# Compute the product of all elements in an array.
np.prod(arr)


#Compute the median of an array.
np.median(arr)


# Compute the percentile of an array.
np.percentile(arr,50)# For the 50th percentile (median)


#Return the index of the minimum value in an array.
np.argmin(arr)


# Return the index of the maximum value in an array.
np.argmax(arr)


arr1=np.array([1,2,3,4])
arr2=np.array([5,6,7,8])


#Compute the correlation coefficient matrix of two arrays.
np.corrcoef(arr1,arr2)


arr3 = np.array([1,2,3,4])
arr4=np.array([2,3,5,6])


#Find the unique elements of an array.
np.unique(arr)


#Compute the n-th differences of an array.
np.diff(arr)


#Compute the cumulative sum of an array.
np.cumsum(arr)


#Create an array with evenly spaced numbers over a specified interval.
np.linspace(0, 10, 5)  # 5 numbers from 0 to 10


#Compute the natural logarithm of an array.
np.log(arr)


#Compute the exponential of an array.
np.exp(arr)
