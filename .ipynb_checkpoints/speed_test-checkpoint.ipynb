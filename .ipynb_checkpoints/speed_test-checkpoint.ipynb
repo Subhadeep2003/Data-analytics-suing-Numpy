{
 "cells": [
  {
   "cell_type": "code",
   "execution_count": null,
   "id": "15498031-ad17-48e7-9e11-68839e6797b2",
   "metadata": {},
   "outputs": [],
   "source": [
    "import numpy as np"
   ]
  },
  {
   "cell_type": "code",
   "execution_count": 3,
   "id": "5cd369d3-84a6-4d61-924c-36745eeef557",
   "metadata": {},
   "outputs": [],
   "source": [
    "import time"
   ]
  },
  {
   "cell_type": "code",
   "execution_count": 5,
   "id": "07409f6c-5758-43c7-a154-1ced9943db1f",
   "metadata": {},
   "outputs": [
    {
     "data": {
      "text/plain": [
       "[(1, 5), (2, 6), (3, 7), (4, 8)]"
      ]
     },
     "execution_count": 5,
     "metadata": {},
     "output_type": "execute_result"
    }
   ],
   "source": [
    "l1 = [1,2,3,4]\n",
    "l2 = [5,6,7,8]\n",
    "list(zip(l1,l2))"
   ]
  },
  {
   "cell_type": "code",
   "execution_count": null,
   "id": "5d273144-1cf3-4f3e-9071-711a42c965bd",
   "metadata": {},
   "outputs": [],
   "source": [
    "#Adding Two Lists vs. NumPy Arrays"
   ]
  },
  {
   "cell_type": "code",
   "execution_count": null,
   "id": "bd258765-590a-4c47-8e4b-3ca461750878",
   "metadata": {},
   "outputs": [],
   "source": [
    "#Usin Python List\n",
    "size = 1_000_000_000\n",
    "list1 = list(range(size))\n",
    "list2 = list(range(size))\n",
    "\n",
    "start = time.time()\n",
    "result = [x+y for x,y in zip(list1,list2)]\n",
    "end = time.time()\n",
    "print(add[0:10])\n",
    "print(\"python list additiion time\",end-start)"
   ]
  },
  {
   "cell_type": "code",
   "execution_count": 17,
   "id": "59907b23-58ec-4a52-9ae5-c56181136a2a",
   "metadata": {},
   "outputs": [
    {
     "name": "stdout",
     "output_type": "stream",
     "text": [
      "[ 0  2  4  6  8 10 12 14 16 18]\n",
      "Numpy array addition time: 0.0020172595977783203\n"
     ]
    }
   ],
   "source": [
    "#Using Numpy array\n",
    "size = 1_000_000\n",
    "arr1 = np.array(list(range(size)))\n",
    "arr2 = np.array(list(range(size)))\n",
    "start = time.time()\n",
    "add = arr1+arr2\n",
    "end = time.time()\n",
    "print(add[0:10])\n",
    "print(\"Numpy array addition time:\",end-start)"
   ]
  },
  {
   "cell_type": "code",
   "execution_count": null,
   "id": "403cb443-c244-415c-aee5-239f8145fc5a",
   "metadata": {},
   "outputs": [],
   "source": []
  }
 ],
 "metadata": {
  "kernelspec": {
   "display_name": "Python [conda env:base] *",
   "language": "python",
   "name": "conda-base-py"
  },
  "language_info": {
   "codemirror_mode": {
    "name": "ipython",
    "version": 3
   },
   "file_extension": ".py",
   "mimetype": "text/x-python",
   "name": "python",
   "nbconvert_exporter": "python",
   "pygments_lexer": "ipython3",
   "version": "3.12.7"
  }
 },
 "nbformat": 4,
 "nbformat_minor": 5
}
