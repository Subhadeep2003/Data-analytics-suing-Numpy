{
 "cells": [
  {
   "cell_type": "code",
   "execution_count": 4,
   "id": "15498031-ad17-48e7-9e11-68839e6797b2",
   "metadata": {},
   "outputs": [],
   "source": [
    "import numpy as np"
   ]
  },
  {
   "cell_type": "code",
   "execution_count": 5,
   "id": "5cd369d3-84a6-4d61-924c-36745eeef557",
   "metadata": {},
   "outputs": [],
   "source": [
    "import time"
   ]
  },
  {
   "cell_type": "code",
   "execution_count": 6,
   "id": "07409f6c-5758-43c7-a154-1ced9943db1f",
   "metadata": {},
   "outputs": [
    {
     "data": {
      "text/plain": [
       "[(1, 5), (2, 6), (3, 7), (4, 8)]"
      ]
     },
     "execution_count": 6,
     "metadata": {},
     "output_type": "execute_result"
    }
   ],
   "source": [
    "l1 = [1,2,3,4]\n",
    "l2 = [5,6,7,8]\n",
    "list(zip(l1,l2))"
   ]
  },
  {
   "cell_type": "code",
   "execution_count": null,
   "id": "5d273144-1cf3-4f3e-9071-711a42c965bd",
   "metadata": {},
   "outputs": [],
   "source": [
    "#Adding Two Lists vs. NumPy Arrays"
   ]
  },
  {
   "cell_type": "code",
   "execution_count": 10,
   "id": "bd258765-590a-4c47-8e4b-3ca461750878",
   "metadata": {},
   "outputs": [
    {
     "name": "stdout",
     "output_type": "stream",
     "text": [
      "[0, 2, 4, 6, 8, 10, 12, 14, 16, 18]\n",
      "python list additiion time 0.5433204174041748\n"
     ]
    }
   ],
   "source": [
    "#Usin Python List\n",
    "size = 1_000_000_0\n",
    "list1 = list(range(size))\n",
    "list2 = list(range(size))\n",
    "\n",
    "start = time.time()\n",
    "result = [x+y for x,y in zip(list1,list2)]\n",
    "end = time.time()\n",
    "print(result[0:10])\n",
    "print(\"python list additiion time\",end-start)"
   ]
  },
  {
   "cell_type": "code",
   "execution_count": 11,
   "id": "59907b23-58ec-4a52-9ae5-c56181136a2a",
   "metadata": {},
   "outputs": [
    {
     "name": "stdout",
     "output_type": "stream",
     "text": [
      "[ 0  2  4  6  8 10 12 14 16 18]\n",
      "Numpy array addition time: 0.011007308959960938\n"
     ]
    }
   ],
   "source": [
    "#Using Numpy array\n",
    "size = 1_000_000_0\n",
    "arr1 = np.array(list(range(size)))\n",
    "arr2 = np.array(list(range(size)))\n",
    "start = time.time()\n",
    "add = arr1+arr2\n",
    "end = time.time()\n",
    "print(add[0:10])\n",
    "print(\"Numpy array addition time:\",end-start)"
   ]
  },
  {
   "cell_type": "code",
   "execution_count": 32,
   "id": "403cb443-c244-415c-aee5-239f8145fc5a",
   "metadata": {},
   "outputs": [
    {
     "name": "stdout",
     "output_type": "stream",
     "text": [
      "[1 2 3 4 5]\n"
     ]
    }
   ],
   "source": [
    "#Creating numpy array\n",
    "arr1 = np.array([1,2,3,4,5])\n",
    "print(arr1)"
   ]
  },
  {
   "cell_type": "code",
   "execution_count": 18,
   "id": "7d149d41-a729-4b3b-b7d2-8528de402b6c",
   "metadata": {},
   "outputs": [
    {
     "name": "stdout",
     "output_type": "stream",
     "text": [
      "[[1 2 3]\n",
      " [4 5 6]]\n"
     ]
    }
   ],
   "source": [
    "#Creating 2D numpy array\n",
    "arr2 = np.array([[1,2,3],[4,5,6]])\n",
    "print(arr2)"
   ]
  },
  {
   "cell_type": "code",
   "execution_count": 34,
   "id": "8001a415-0a6f-4470-9300-e3cc62946d07",
   "metadata": {},
   "outputs": [
    {
     "name": "stdout",
     "output_type": "stream",
     "text": [
      "Type : <class 'numpy.ndarray'>\n",
      "Type : <class 'numpy.ndarray'>\n",
      "Shape : (5,)\n",
      "Shape : (2, 3)\n"
     ]
    }
   ],
   "source": [
    "#Checking type and shape\n",
    "print(\"Type :\",type(arr1))\n",
    "print(\"Type :\",type(arr2))\n",
    "print(\"Shape :\",arr1.shape)\n",
    "print(\"Shape :\",arr2.shape)"
   ]
  },
  {
   "cell_type": "code",
   "execution_count": 22,
   "id": "17bbd8c9-04e8-4fe1-811e-e28fad27640c",
   "metadata": {},
   "outputs": [
    {
     "name": "stdout",
     "output_type": "stream",
     "text": [
      "Python list size : 8056000 bytes\n",
      "Numpy array size : 4000 bytes\n"
     ]
    }
   ],
   "source": [
    "#Lets check the memory consumption\n",
    "import sys\n",
    "list_data = list(range(1000))\n",
    "numpy_data = np.array(list_data)\n",
    "\n",
    "print(\"Python list size :\" ,sys.getsizeof(list_data)*len(list_data),\"bytes\")\n",
    "print(\"Numpy array size :\",numpy_data.nbytes,\"bytes\")"
   ]
  },
  {
   "cell_type": "code",
   "execution_count": 46,
   "id": "a2b1e4a2-f7dd-431e-867d-5228a0a17774",
   "metadata": {},
   "outputs": [
    {
     "name": "stdout",
     "output_type": "stream",
     "text": [
      "[1, 4, 9, 16]\n",
      "Python list time 0.0\n"
     ]
    }
   ],
   "source": [
    "#No loops in numpy array\n",
    "list1 = [1,2,3,4]\n",
    "#Python list(loop-based)\n",
    "start = time.time()\n",
    "list_squares = [x ** 2 for x in list1]\n",
    "end = time.time()\n",
    "print(list_squares)\n",
    "print(\"Python list time\",end-start)"
   ]
  },
  {
   "cell_type": "code",
   "execution_count": 48,
   "id": "74d84726-3e09-46e2-bcce-c970880e1300",
   "metadata": {},
   "outputs": [
    {
     "name": "stdout",
     "output_type": "stream",
     "text": [
      "[ 1  4  9 16]\n",
      "Numpy time 0.0008387565612792969\n"
     ]
    }
   ],
   "source": [
    "#Numpy(Vectorized using SIMD)\n",
    "arr1 = np.array([1,2,3,4])\n",
    "numpy_squares = arr1 ** 2\n",
    "start = time.time()\n",
    "print(numpy_squares)\n",
    "end=time.time()\n",
    "print(\"Numpy time\",end-start)"
   ]
  }
 ],
 "metadata": {
  "kernelspec": {
   "display_name": "Python [conda env:base] *",
   "language": "python",
   "name": "conda-base-py"
  },
  "language_info": {
   "codemirror_mode": {
    "name": "ipython",
    "version": 3
   },
   "file_extension": ".py",
   "mimetype": "text/x-python",
   "name": "python",
   "nbconvert_exporter": "python",
   "pygments_lexer": "ipython3",
   "version": "3.12.7"
  }
 },
 "nbformat": 4,
 "nbformat_minor": 5
}
