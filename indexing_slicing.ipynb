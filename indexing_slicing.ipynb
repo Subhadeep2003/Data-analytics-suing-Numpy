{
 "cells": [
  {
   "cell_type": "code",
   "execution_count": 1,
   "id": "70d5079f-557a-4afd-8114-9eaf0eb165e7",
   "metadata": {},
   "outputs": [],
   "source": [
    "import numpy as np"
   ]
  },
  {
   "cell_type": "code",
   "execution_count": 15,
   "id": "a6e8fd1a-393f-448d-8d6c-7a9af866cda6",
   "metadata": {},
   "outputs": [],
   "source": [
    "myarr = np.array([10,20,30,40,50])"
   ]
  },
  {
   "cell_type": "code",
   "execution_count": 23,
   "id": "8bdbb785-14e7-4600-b01c-0309afb6b416",
   "metadata": {},
   "outputs": [
    {
     "name": "stdout",
     "output_type": "stream",
     "text": [
      "10\n",
      "50\n",
      "50\n",
      "5\n"
     ]
    }
   ],
   "source": [
    "#Indexing (Same as Python Lists)\n",
    "print(myarr[0])\n",
    "print(myarr[-1])\n",
    "print(myarr[4])\n",
    "print(myarr.size)"
   ]
  },
  {
   "cell_type": "code",
   "execution_count": 19,
   "id": "4fe087f8-41bf-423c-878e-d907ba7f8e6b",
   "metadata": {},
   "outputs": [
    {
     "name": "stdout",
     "output_type": "stream",
     "text": [
      "[20 30 40]\n",
      "[10 20 30]\n",
      "[10 30 50]\n"
     ]
    }
   ],
   "source": [
    "#Slicing (Extracting Parts of an Array)\n",
    "print(myarr[1:4])# [20 30 40] (slice from index 1 to 3)\n",
    "print(myarr[:3])# [10 20 30] (first 3 elements)\n",
    "print(myarr[::2])# [10 30 50] (every 2nd element)"
   ]
  },
  {
   "cell_type": "code",
   "execution_count": 27,
   "id": "9e975936-42af-4890-8a88-6ca6bd196cab",
   "metadata": {},
   "outputs": [],
   "source": [
    "#Slicing returns a view, not a copy! Changes affect the original array.**\n",
    "flat = np.array([1,2,3,4,5,6,7,8,9,10,11,12,13])\n"
   ]
  },
  {
   "cell_type": "code",
   "execution_count": 31,
   "id": "15d9cc33-2712-4c29-8532-0c812144d2dc",
   "metadata": {},
   "outputs": [
    {
     "data": {
      "text/plain": [
       "array([4, 5, 6, 7])"
      ]
     },
     "execution_count": 31,
     "metadata": {},
     "output_type": "execute_result"
    }
   ],
   "source": [
    "b=flat[3:7]\n",
    "b #b is a view "
   ]
  },
  {
   "cell_type": "code",
   "execution_count": 33,
   "id": "c7a12aab-4dad-49ba-bb75-22725dab3878",
   "metadata": {},
   "outputs": [
    {
     "data": {
      "text/plain": [
       "array([4444,    5,    6,    7])"
      ]
     },
     "execution_count": 33,
     "metadata": {},
     "output_type": "execute_result"
    }
   ],
   "source": [
    "b[0] = 4444\n",
    "b"
   ]
  },
  {
   "cell_type": "code",
   "execution_count": 35,
   "id": "d3f37d68-9f08-4ed1-959a-0e70000f9e87",
   "metadata": {},
   "outputs": [
    {
     "data": {
      "text/plain": [
       "array([   1,    2,    3, 4444,    5,    6,    7,    8,    9,   10,   11,\n",
       "         12,   13])"
      ]
     },
     "execution_count": 35,
     "metadata": {},
     "output_type": "execute_result"
    }
   ],
   "source": [
    "flat"
   ]
  },
  {
   "cell_type": "code",
   "execution_count": 41,
   "id": "ad042ea4-8035-48ed-b502-36a19dd4cee1",
   "metadata": {},
   "outputs": [
    {
     "data": {
      "text/plain": [
       "array([1, 2, 3])"
      ]
     },
     "execution_count": 41,
     "metadata": {},
     "output_type": "execute_result"
    }
   ],
   "source": [
    "c=flat[0:3].copy() # We want to make a copy by our own\n",
    "c"
   ]
  },
  {
   "cell_type": "code",
   "execution_count": 43,
   "id": "5cc6f5d0-4d22-4b16-aade-690637eefe8a",
   "metadata": {},
   "outputs": [
    {
     "data": {
      "text/plain": [
       "array([11111,     2,     3])"
      ]
     },
     "execution_count": 43,
     "metadata": {},
     "output_type": "execute_result"
    }
   ],
   "source": [
    "c[0] = 11111\n",
    "c"
   ]
  },
  {
   "cell_type": "code",
   "execution_count": 45,
   "id": "478929f1-0967-4259-9090-9cf5e448522d",
   "metadata": {},
   "outputs": [
    {
     "data": {
      "text/plain": [
       "array([   1,    2,    3, 4444,    5,    6,    7,    8,    9,   10,   11,\n",
       "         12,   13])"
      ]
     },
     "execution_count": 45,
     "metadata": {},
     "output_type": "execute_result"
    }
   ],
   "source": [
    "flat"
   ]
  },
  {
   "cell_type": "code",
   "execution_count": 53,
   "id": "cc44306b-da89-405b-a75c-e49adf4de28c",
   "metadata": {},
   "outputs": [
    {
     "name": "stdout",
     "output_type": "stream",
     "text": [
      "[10 30 50]\n",
      "[10 20 30 40 50]\n"
     ]
    }
   ],
   "source": [
    "#Fancy Indexing (Select Multiple Elements)\n",
    "idx = [0,2,4] # Indices to select\n",
    "print(myarr[idx])\n",
    "print(myarr)"
   ]
  },
  {
   "cell_type": "code",
   "execution_count": 57,
   "id": "a7babdff-9363-4830-ab33-8f7f51aeca37",
   "metadata": {},
   "outputs": [
    {
     "name": "stdout",
     "output_type": "stream",
     "text": [
      "[30 40 50]\n"
     ]
    }
   ],
   "source": [
    "#Boolean Masking (Filter Data)\n",
    "mask = myarr>25 # Condition: values greater than 25\n",
    "print(myarr[mask])\n",
    "#This is a powerful way to filter large datasets efficiently!"
   ]
  }
 ],
 "metadata": {
  "kernelspec": {
   "display_name": "Python [conda env:base] *",
   "language": "python",
   "name": "conda-base-py"
  },
  "language_info": {
   "codemirror_mode": {
    "name": "ipython",
    "version": 3
   },
   "file_extension": ".py",
   "mimetype": "text/x-python",
   "name": "python",
   "nbconvert_exporter": "python",
   "pygments_lexer": "ipython3",
   "version": "3.12.7"
  }
 },
 "nbformat": 4,
 "nbformat_minor": 5
}
