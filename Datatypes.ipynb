{
 "cells": [
  {
   "cell_type": "code",
   "execution_count": 1,
   "id": "ce6b60fa-b91f-4046-a9db-5ffb763819a9",
   "metadata": {},
   "outputs": [],
   "source": [
    "import numpy as np"
   ]
  },
  {
   "cell_type": "code",
   "execution_count": 5,
   "id": "c76741c9-ab5d-4268-9d88-8776093dca68",
   "metadata": {},
   "outputs": [
    {
     "name": "stdout",
     "output_type": "stream",
     "text": [
      "int32\n"
     ]
    }
   ],
   "source": [
    "arr = np.array([1,2,3,4,5])\n",
    "print(arr.dtype)"
   ]
  },
  {
   "cell_type": "code",
   "execution_count": 13,
   "id": "b1b97c83-7d44-43ac-9386-49e77ae43208",
   "metadata": {},
   "outputs": [
    {
     "name": "stdout",
     "output_type": "stream",
     "text": [
      "[1.5 2.7 3.9]\n",
      "float64\n",
      "[1 2 3]\n",
      "int32\n"
     ]
    }
   ],
   "source": [
    "#Changing Data Types\n",
    "arr_float = np.array([1.5,2.7,3.9])\n",
    "print(arr_float)\n",
    "print(arr_float.dtype)\n",
    "arr_int = arr_float.astype(np.int32)\n",
    "print(arr_int)\n",
    "print(arr_int.dtype)"
   ]
  },
  {
   "cell_type": "code",
   "execution_count": 37,
   "id": "f4a91a88-bdde-4011-90a3-2ed886acdbb5",
   "metadata": {},
   "outputs": [
    {
     "name": "stdout",
     "output_type": "stream",
     "text": [
      "int32\n",
      "float32\n",
      "[1.e-45 3.e-45 4.e-45 6.e-45]\n"
     ]
    }
   ],
   "source": [
    "arr1_int = np.array([1,2,3,4])\n",
    "print(arr1_int.dtype)\n",
    "arr1_int.dtype=np.float32\n",
    "print(arr1_int.dtype)\n",
    "print(arr1_int)"
   ]
  },
  {
   "cell_type": "code",
   "execution_count": 39,
   "id": "6aace089-40ef-4b36-ac3b-694e19c45863",
   "metadata": {},
   "outputs": [],
   "source": [
    "arr3 = np.array([23,24,25,26])\n"
   ]
  },
  {
   "cell_type": "code",
   "execution_count": 41,
   "id": "0a221dc4-c370-4c6b-ae2f-71fc6499ec5b",
   "metadata": {},
   "outputs": [
    {
     "data": {
      "text/plain": [
       "dtype('int32')"
      ]
     },
     "execution_count": 41,
     "metadata": {},
     "output_type": "execute_result"
    }
   ],
   "source": [
    "arr3.dtype"
   ]
  },
  {
   "cell_type": "code",
   "execution_count": 43,
   "id": "a5372e72-6d5d-4c5a-a750-0bb8a7338a8b",
   "metadata": {},
   "outputs": [
    {
     "data": {
      "text/plain": [
       "array([23., 24., 25., 26.])"
      ]
     },
     "execution_count": 43,
     "metadata": {},
     "output_type": "execute_result"
    }
   ],
   "source": [
    "arr3.astype(\"float64\")"
   ]
  },
  {
   "cell_type": "code",
   "execution_count": 45,
   "id": "f1c93552-6774-491f-a828-a5a0ce711168",
   "metadata": {},
   "outputs": [
    {
     "data": {
      "text/plain": [
       "dtype('int32')"
      ]
     },
     "execution_count": 45,
     "metadata": {},
     "output_type": "execute_result"
    }
   ],
   "source": [
    "arr3.dtype"
   ]
  },
  {
   "cell_type": "code",
   "execution_count": 51,
   "id": "30035179-a80d-4b21-be03-d17317def51d",
   "metadata": {},
   "outputs": [
    {
     "name": "stdout",
     "output_type": "stream",
     "text": [
      "24\n",
      "12\n"
     ]
    }
   ],
   "source": [
    "#Memory Usage\n",
    "arr_int64 = np.array([1, 2, 3], dtype=np.int64)\n",
    "arr_int32 = np.array([1, 2, 3], dtype=np.int32)\n",
    "\n",
    "print(arr_int64.nbytes)  # Output: 24 bytes (3 elements * 8 bytes each)\n",
    "print(arr_int32.nbytes)  # Output: 12 bytes (3 elements * 4 bytes each)"
   ]
  },
  {
   "cell_type": "code",
   "execution_count": 53,
   "id": "8e8930b1-c213-4ed8-ad44-78fb1979b272",
   "metadata": {},
   "outputs": [
    {
     "name": "stdout",
     "output_type": "stream",
     "text": [
      "['apple' 'banana' 'cherry']\n"
     ]
    }
   ],
   "source": [
    "#String Data Type in NumPy\n",
    "arr = np.array(['apple', 'banana', 'cherry'], dtype='U10')  # Unicode string array\n",
    "print(arr)"
   ]
  },
  {
   "cell_type": "code",
   "execution_count": 55,
   "id": "8b17bb3c-0b2c-45da-9b8c-96e9fc661d8a",
   "metadata": {},
   "outputs": [
    {
     "name": "stdout",
     "output_type": "stream",
     "text": [
      "[1.+2.j 3.+4.j 5.+6.j]\n"
     ]
    }
   ],
   "source": [
    "#Complex Numbers\n",
    "arr = np.array([1 + 2j, 3 + 4j, 5 + 6j], dtype='complex128')\n",
    "print(arr)"
   ]
  },
  {
   "cell_type": "code",
   "execution_count": 57,
   "id": "64c7a514-ffc3-4ab4-bfc8-8dbdbe22e45b",
   "metadata": {},
   "outputs": [
    {
     "name": "stdout",
     "output_type": "stream",
     "text": [
      "[{'a': 1} list([1, 2, 3]) 'hello']\n"
     ]
    }
   ],
   "source": [
    "#Object Data Type\n",
    "arr = np.array([{'a': 1}, [1, 2, 3], 'hello'], dtype=object)\n",
    "print(arr)"
   ]
  }
 ],
 "metadata": {
  "kernelspec": {
   "display_name": "Python [conda env:base] *",
   "language": "python",
   "name": "conda-base-py"
  },
  "language_info": {
   "codemirror_mode": {
    "name": "ipython",
    "version": 3
   },
   "file_extension": ".py",
   "mimetype": "text/x-python",
   "name": "python",
   "nbconvert_exporter": "python",
   "pygments_lexer": "ipython3",
   "version": "3.12.7"
  }
 },
 "nbformat": 4,
 "nbformat_minor": 5
}
