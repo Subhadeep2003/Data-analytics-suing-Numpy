{
 "cells": [
  {
   "cell_type": "code",
   "execution_count": 3,
   "id": "8554e42b-896e-4468-ad99-7f007093bb14",
   "metadata": {},
   "outputs": [],
   "source": [
    "import numpy as np"
   ]
  },
  {
   "cell_type": "code",
   "execution_count": 11,
   "id": "3e461731-2cc7-4240-b651-07d4c802dd03",
   "metadata": {},
   "outputs": [
    {
     "name": "stdout",
     "output_type": "stream",
     "text": [
      "[1 2 3 4]\n",
      "[[1 2 3]\n",
      " [4 5 6]]\n"
     ]
    }
   ],
   "source": [
    "arr1 = np.array([1,2,3,4])\n",
    "arr2 = np.array([[1,2,3],[4,5,6]])\n",
    "print(arr1)\n",
    "print(arr2)"
   ]
  },
  {
   "cell_type": "code",
   "execution_count": 15,
   "id": "f549dca9-3244-4be9-9f92-c17ba67859c1",
   "metadata": {},
   "outputs": [
    {
     "data": {
      "text/plain": [
       "array([[0., 0., 0.],\n",
       "       [0., 0., 0.],\n",
       "       [0., 0., 0.]])"
      ]
     },
     "execution_count": 15,
     "metadata": {},
     "output_type": "execute_result"
    }
   ],
   "source": [
    "## 3x3 array of zeros\n",
    "np.zeros((3,3))"
   ]
  },
  {
   "cell_type": "code",
   "execution_count": 17,
   "id": "c33bb27d-059e-46d8-b3ba-6e4e53285d9c",
   "metadata": {},
   "outputs": [
    {
     "data": {
      "text/plain": [
       "array([[1., 1., 1., 1.],\n",
       "       [1., 1., 1., 1.]])"
      ]
     },
     "execution_count": 17,
     "metadata": {},
     "output_type": "execute_result"
    }
   ],
   "source": [
    "# 2x4 array of ones\n",
    "np.ones((2,4))"
   ]
  },
  {
   "cell_type": "code",
   "execution_count": 19,
   "id": "4c1c12f2-fd2e-4b6a-9e4a-748a1eddac5f",
   "metadata": {},
   "outputs": [
    {
     "data": {
      "text/plain": [
       "array([[7, 7],\n",
       "       [7, 7]])"
      ]
     },
     "execution_count": 19,
     "metadata": {},
     "output_type": "execute_result"
    }
   ],
   "source": [
    "# 2x2 array filled with 7\n",
    "np.full((2,2),7)"
   ]
  },
  {
   "cell_type": "code",
   "execution_count": 21,
   "id": "09b88987-93e2-49cc-9e7d-f555c8350f9a",
   "metadata": {},
   "outputs": [
    {
     "data": {
      "text/plain": [
       "array([[1., 0., 0., 0.],\n",
       "       [0., 1., 0., 0.],\n",
       "       [0., 0., 1., 0.],\n",
       "       [0., 0., 0., 1.]])"
      ]
     },
     "execution_count": 21,
     "metadata": {},
     "output_type": "execute_result"
    }
   ],
   "source": [
    "# 4x4 identity matrix\n",
    "np.eye(4)"
   ]
  },
  {
   "cell_type": "code",
   "execution_count": 33,
   "id": "156e1384-f37b-4411-84df-6a1c26fd30f4",
   "metadata": {},
   "outputs": [
    {
     "data": {
      "text/plain": [
       "array([1, 3, 5, 7, 9])"
      ]
     },
     "execution_count": 33,
     "metadata": {},
     "output_type": "execute_result"
    }
   ],
   "source": [
    " # [1, 3, 5, 7, 9] (like range)\n",
    "np.arange(1, 10, 2)"
   ]
  },
  {
   "cell_type": "code",
   "execution_count": 37,
   "id": "20bfc9f8-3536-4706-8e61-da6e0bc086bf",
   "metadata": {},
   "outputs": [
    {
     "data": {
      "text/plain": [
       "array([0.  , 0.25, 0.5 , 0.75, 1.  ])"
      ]
     },
     "execution_count": 37,
     "metadata": {},
     "output_type": "execute_result"
    }
   ],
   "source": [
    " # [0. 0.25 0.5 0.75 1.] (evenly spaced)\n",
    "np.linspace(0,1,5)"
   ]
  },
  {
   "cell_type": "code",
   "execution_count": 45,
   "id": "45d41085-2912-47ba-b373-74ecf92de571",
   "metadata": {},
   "outputs": [
    {
     "name": "stdout",
     "output_type": "stream",
     "text": [
      "Shape (2, 3)\n",
      "Size 6\n",
      "Dimension 2\n",
      "Data type int32\n"
     ]
    }
   ],
   "source": [
    " #Checking Array Properties\n",
    "arr = np.array([[10,20,30],[40,50,60]])\n",
    " # (2, 3) → 2 rows, 3 columns\n",
    "print(\"Shape\",arr.shape)\n",
    "# 6 → total elements\n",
    "print(\"Size\",arr.size)\n",
    " # 2 → 2D array\n",
    "print(\"Dimension\",arr.ndim)\n",
    "# int64 (or int32 on Windows)\n",
    "print(\"Data type\",arr.dtype)"
   ]
  },
  {
   "cell_type": "code",
   "execution_count": 97,
   "id": "94e7f30e-aa3f-4063-95d2-c5213b7c3d3b",
   "metadata": {},
   "outputs": [
    {
     "name": "stdout",
     "output_type": "stream",
     "text": [
      "int32\n",
      "float32\n"
     ]
    }
   ],
   "source": [
    "# Changing Data Types\n",
    "arr = np.array([1,2,3])\n",
    "print(arr.dtype)\n",
    "arr.dtype=np.float32\n",
    "print(arr.dtype)"
   ]
  },
  {
   "cell_type": "code",
   "execution_count": 101,
   "id": "6eaac820-3663-4c4a-846a-a64ae3502b5a",
   "metadata": {},
   "outputs": [
    {
     "name": "stdout",
     "output_type": "stream",
     "text": [
      "float32\n",
      "[1 2 3]\n",
      "int32\n"
     ]
    }
   ],
   "source": [
    "arr1=np.array([1,2,3], dtype=np.float32)\n",
    "print(arr1.dtype)\n",
    "arr_int = arr1.astype(np.int32) # Convert float to int\n",
    "print(arr_int)\n",
    "print(arr_int.dtype)"
   ]
  },
  {
   "cell_type": "code",
   "execution_count": 111,
   "id": "37043f74-0e48-4bd7-a9c3-5230d4decedd",
   "metadata": {},
   "outputs": [
    {
     "name": "stdout",
     "output_type": "stream",
     "text": [
      "(2, 3)\n",
      "[[1 2]\n",
      " [3 4]\n",
      " [5 6]]\n",
      "(3, 2)\n"
     ]
    }
   ],
   "source": [
    "#Reshaping  Arrays\n",
    "arr = np.array([[1,2,3],[4,5,6]])\n",
    "print(arr.shape)\n",
    "#Change shape\n",
    "reshaped = arr.reshape(3,2)\n",
    "print(reshaped)\n",
    "print(reshaped.shape)"
   ]
  },
  {
   "cell_type": "code",
   "execution_count": 115,
   "id": "85344b01-3d4e-4705-ab04-d8db30ff62fc",
   "metadata": {},
   "outputs": [
    {
     "name": "stdout",
     "output_type": "stream",
     "text": [
      "[1 2 3 4 5 6]\n"
     ]
    }
   ],
   "source": [
    "#Flattening Arrays\n",
    "arr = np.array([[1,2,3],[4,5,6]])\n",
    "flattened =arr.flatten() # Convert 2D → 1D\n",
    "print(flattened)"
   ]
  }
 ],
 "metadata": {
  "kernelspec": {
   "display_name": "Python [conda env:base] *",
   "language": "python",
   "name": "conda-base-py"
  },
  "language_info": {
   "codemirror_mode": {
    "name": "ipython",
    "version": 3
   },
   "file_extension": ".py",
   "mimetype": "text/x-python",
   "name": "python",
   "nbconvert_exporter": "python",
   "pygments_lexer": "ipython3",
   "version": "3.12.7"
  }
 },
 "nbformat": 4,
 "nbformat_minor": 5
}
