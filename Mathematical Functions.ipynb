{
 "cells": [
  {
   "cell_type": "code",
   "execution_count": 3,
   "id": "1c851272-af47-484a-b069-1071fe96ca57",
   "metadata": {},
   "outputs": [],
   "source": [
    "import numpy as np"
   ]
  },
  {
   "cell_type": "code",
   "execution_count": 5,
   "id": "9a10ed4b-b9dd-4bfb-96b2-c5a506a15f10",
   "metadata": {},
   "outputs": [],
   "source": [
    "arr = np.array([3,5,2,33])"
   ]
  },
  {
   "cell_type": "code",
   "execution_count": 7,
   "id": "de07a803-1a5b-4dc9-b9ba-866ff638c7d7",
   "metadata": {},
   "outputs": [
    {
     "data": {
      "text/plain": [
       "10.75"
      ]
     },
     "execution_count": 7,
     "metadata": {},
     "output_type": "execute_result"
    }
   ],
   "source": [
    "# Compute the mean (average) of an array.\n",
    "np.mean(arr)"
   ]
  },
  {
   "cell_type": "code",
   "execution_count": 9,
   "id": "68f29ae9-fe1c-4ccb-bb33-b1220de9394d",
   "metadata": {},
   "outputs": [
    {
     "data": {
      "text/plain": [
       "12.891373084353738"
      ]
     },
     "execution_count": 9,
     "metadata": {},
     "output_type": "execute_result"
    }
   ],
   "source": [
    "#Compute the standard deviation of an array.\n",
    "np.std(arr)"
   ]
  },
  {
   "cell_type": "code",
   "execution_count": 11,
   "id": "1a9dd43d-8f9f-452a-94ad-33846e786e4a",
   "metadata": {},
   "outputs": [
    {
     "data": {
      "text/plain": [
       "166.1875"
      ]
     },
     "execution_count": 11,
     "metadata": {},
     "output_type": "execute_result"
    }
   ],
   "source": [
    "#Compute the variance of an array.\n",
    "np.var(arr)"
   ]
  },
  {
   "cell_type": "code",
   "execution_count": 13,
   "id": "d93943d4-7c8f-4c0d-9f08-319e2ff10894",
   "metadata": {},
   "outputs": [
    {
     "data": {
      "text/plain": [
       "2"
      ]
     },
     "execution_count": 13,
     "metadata": {},
     "output_type": "execute_result"
    }
   ],
   "source": [
    "#Compute the minimum value of an array.\n",
    "np.min(arr)"
   ]
  },
  {
   "cell_type": "code",
   "execution_count": 15,
   "id": "b6ff5e71-775d-4317-ab46-5cf74f519138",
   "metadata": {},
   "outputs": [
    {
     "data": {
      "text/plain": [
       "33"
      ]
     },
     "execution_count": 15,
     "metadata": {},
     "output_type": "execute_result"
    }
   ],
   "source": [
    "#Compute the maximum value of an array.\n",
    "np.max(arr)"
   ]
  },
  {
   "cell_type": "code",
   "execution_count": 17,
   "id": "b4ff6235-6ea2-4ce0-afbf-5be2999ee57d",
   "metadata": {},
   "outputs": [
    {
     "data": {
      "text/plain": [
       "43"
      ]
     },
     "execution_count": 17,
     "metadata": {},
     "output_type": "execute_result"
    }
   ],
   "source": [
    "# Compute the sum of all elements in an array.\n",
    "np.sum(arr)"
   ]
  },
  {
   "cell_type": "code",
   "execution_count": 21,
   "id": "2f45494a-fd09-4f64-ad08-016b355e969a",
   "metadata": {},
   "outputs": [
    {
     "data": {
      "text/plain": [
       "990"
      ]
     },
     "execution_count": 21,
     "metadata": {},
     "output_type": "execute_result"
    }
   ],
   "source": [
    "# Compute the product of all elements in an array.\n",
    "np.prod(arr)"
   ]
  },
  {
   "cell_type": "code",
   "execution_count": 23,
   "id": "d17771e8-24b7-4614-a0d7-6af4200d10fb",
   "metadata": {},
   "outputs": [
    {
     "data": {
      "text/plain": [
       "4.0"
      ]
     },
     "execution_count": 23,
     "metadata": {},
     "output_type": "execute_result"
    }
   ],
   "source": [
    "#Compute the median of an array.\n",
    "np.median(arr)"
   ]
  },
  {
   "cell_type": "code",
   "execution_count": 25,
   "id": "f7be9612-0b17-4e88-a9c6-e3573be4a2b6",
   "metadata": {},
   "outputs": [
    {
     "data": {
      "text/plain": [
       "4.0"
      ]
     },
     "execution_count": 25,
     "metadata": {},
     "output_type": "execute_result"
    }
   ],
   "source": [
    "# Compute the percentile of an array.\n",
    "np.percentile(arr,50)# For the 50th percentile (median)"
   ]
  },
  {
   "cell_type": "code",
   "execution_count": 27,
   "id": "7965b71e-5c47-478a-9ebf-7283092448e6",
   "metadata": {},
   "outputs": [
    {
     "data": {
      "text/plain": [
       "2"
      ]
     },
     "execution_count": 27,
     "metadata": {},
     "output_type": "execute_result"
    }
   ],
   "source": [
    "#Return the index of the minimum value in an array.\n",
    "np.argmin(arr)"
   ]
  },
  {
   "cell_type": "code",
   "execution_count": 29,
   "id": "3c7d98fc-881f-4326-a578-9eec3f84a86f",
   "metadata": {},
   "outputs": [
    {
     "data": {
      "text/plain": [
       "3"
      ]
     },
     "execution_count": 29,
     "metadata": {},
     "output_type": "execute_result"
    }
   ],
   "source": [
    "# Return the index of the maximum value in an array.\n",
    "np.argmax(arr)"
   ]
  },
  {
   "cell_type": "code",
   "execution_count": 31,
   "id": "4de98a2c-3bed-4356-a1f3-1eae9e8fc9c8",
   "metadata": {},
   "outputs": [],
   "source": [
    "arr1=np.array([1,2,3,4])\n",
    "arr2=np.array([5,6,7,8])"
   ]
  },
  {
   "cell_type": "code",
   "execution_count": 33,
   "id": "26d708f8-e236-4160-b258-5bdb17411322",
   "metadata": {},
   "outputs": [
    {
     "data": {
      "text/plain": [
       "array([[1., 1.],\n",
       "       [1., 1.]])"
      ]
     },
     "execution_count": 33,
     "metadata": {},
     "output_type": "execute_result"
    }
   ],
   "source": [
    "#Compute the correlation coefficient matrix of two arrays.\n",
    "np.corrcoef(arr1,arr2)"
   ]
  },
  {
   "cell_type": "code",
   "execution_count": 37,
   "id": "b4a81c00-0c3a-477d-885c-1b7c7f2b496b",
   "metadata": {},
   "outputs": [],
   "source": [
    "arr3 = np.array([1,2,3,4])\n",
    "arr4=np.array([2,3,5,6])"
   ]
  },
  {
   "cell_type": "code",
   "execution_count": 43,
   "id": "62dd0628-44df-4cbb-87fb-75cc4bcdd50b",
   "metadata": {},
   "outputs": [
    {
     "data": {
      "text/plain": [
       "array([ 2,  3,  5, 33])"
      ]
     },
     "execution_count": 43,
     "metadata": {},
     "output_type": "execute_result"
    }
   ],
   "source": [
    "#Find the unique elements of an array.\n",
    "np.unique(arr)"
   ]
  },
  {
   "cell_type": "code",
   "execution_count": 45,
   "id": "78736990-f0a5-4565-ae05-e3410a95b055",
   "metadata": {},
   "outputs": [
    {
     "data": {
      "text/plain": [
       "array([ 2, -3, 31])"
      ]
     },
     "execution_count": 45,
     "metadata": {},
     "output_type": "execute_result"
    }
   ],
   "source": [
    "#Compute the n-th differences of an array.\n",
    "np.diff(arr)"
   ]
  },
  {
   "cell_type": "code",
   "execution_count": 47,
   "id": "c9731df9-dc1c-4873-87e2-38aa051564f7",
   "metadata": {},
   "outputs": [
    {
     "data": {
      "text/plain": [
       "array([ 3,  8, 10, 43])"
      ]
     },
     "execution_count": 47,
     "metadata": {},
     "output_type": "execute_result"
    }
   ],
   "source": [
    "#Compute the cumulative sum of an array.\n",
    "np.cumsum(arr)"
   ]
  },
  {
   "cell_type": "code",
   "execution_count": 49,
   "id": "8e2c0a07-4935-4d31-bf75-d54f18276a6d",
   "metadata": {},
   "outputs": [
    {
     "data": {
      "text/plain": [
       "array([ 0. ,  2.5,  5. ,  7.5, 10. ])"
      ]
     },
     "execution_count": 49,
     "metadata": {},
     "output_type": "execute_result"
    }
   ],
   "source": [
    "#Create an array with evenly spaced numbers over a specified interval.\n",
    "np.linspace(0, 10, 5)  # 5 numbers from 0 to 10"
   ]
  },
  {
   "cell_type": "code",
   "execution_count": 51,
   "id": "3559a5eb-ff4f-4b6c-aecb-1a35fbb88be7",
   "metadata": {},
   "outputs": [
    {
     "data": {
      "text/plain": [
       "array([1.09861229, 1.60943791, 0.69314718, 3.49650756])"
      ]
     },
     "execution_count": 51,
     "metadata": {},
     "output_type": "execute_result"
    }
   ],
   "source": [
    "#Compute the natural logarithm of an array.\n",
    "np.log(arr)"
   ]
  },
  {
   "cell_type": "code",
   "execution_count": 53,
   "id": "2399e920-9784-4de2-ac1f-57632abb2166",
   "metadata": {},
   "outputs": [
    {
     "data": {
      "text/plain": [
       "array([2.00855369e+01, 1.48413159e+02, 7.38905610e+00, 2.14643580e+14])"
      ]
     },
     "execution_count": 53,
     "metadata": {},
     "output_type": "execute_result"
    }
   ],
   "source": [
    "#Compute the exponential of an array.\n",
    "np.exp(arr)"
   ]
  }
 ],
 "metadata": {
  "kernelspec": {
   "display_name": "Python [conda env:base] *",
   "language": "python",
   "name": "conda-base-py"
  },
  "language_info": {
   "codemirror_mode": {
    "name": "ipython",
    "version": 3
   },
   "file_extension": ".py",
   "mimetype": "text/x-python",
   "name": "python",
   "nbconvert_exporter": "python",
   "pygments_lexer": "ipython3",
   "version": "3.12.7"
  }
 },
 "nbformat": 4,
 "nbformat_minor": 5
}
