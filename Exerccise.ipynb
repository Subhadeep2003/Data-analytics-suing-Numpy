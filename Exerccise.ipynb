{
 "cells": [
  {
   "cell_type": "code",
   "execution_count": 15,
   "id": "f2fa21bf-5879-44a0-8f4e-7089f309f0a7",
   "metadata": {},
   "outputs": [],
   "source": [
    "import numpy as np"
   ]
  },
  {
   "cell_type": "code",
   "execution_count": 19,
   "id": "6b9af33c-e6e0-498f-b432-6246edbbd1cd",
   "metadata": {},
   "outputs": [
    {
     "data": {
      "text/plain": [
       "array([[1, 9, 7],\n",
       "       [9, 4, 0],\n",
       "       [5, 8, 8]])"
      ]
     },
     "execution_count": 19,
     "metadata": {},
     "output_type": "execute_result"
    }
   ],
   "source": [
    "#Create a 3×3 array filled with random numbers and print its shape.\n",
    "#create 3x3 matrix raandomy but it floating\n",
    "#myarr = np.random.rand(3,3) \n",
    "myarr = np.random.randint(0,10,size=(3,3))\n",
    "myarr"
   ]
  },
  {
   "cell_type": "code",
   "execution_count": 33,
   "id": "58df1fc8-4cf8-4a40-98b5-4ad4d39f80da",
   "metadata": {},
   "outputs": [
    {
     "data": {
      "text/plain": [
       "dtype('int32')"
      ]
     },
     "execution_count": 33,
     "metadata": {},
     "output_type": "execute_result"
    }
   ],
   "source": [
    "#Convert an array of floats [1.1, 2.2, 3.3] into integers.\n",
    "arr1 = np.array([1.1,2.2,3.3])\n",
    "arr1.dtype\n",
    "arr_int = arr1.astype(np.int32)\n",
    "arr_int.dtype"
   ]
  },
  {
   "cell_type": "code",
   "execution_count": 61,
   "id": "7aea42c9-a4d4-4f94-944c-40f15e98638d",
   "metadata": {},
   "outputs": [
    {
     "name": "stdout",
     "output_type": "stream",
     "text": [
      "[2 4 6]\n"
     ]
    }
   ],
   "source": [
    "#Use fancy indexing to extract even numbers from [1, 2, 3, 4, 5, 6].\n",
    "arr2 = np.array([1,2,3,4,5,6])\n",
    "even = (arr2%2==0)\n",
    "print(arr2[even])"
   ]
  },
  {
   "cell_type": "code",
   "execution_count": 47,
   "id": "8d666f18-1607-416b-ba77-fc50f19fbe69",
   "metadata": {},
   "outputs": [
    {
     "name": "stdout",
     "output_type": "stream",
     "text": [
      "[[1 2 3]\n",
      " [4 5 6]\n",
      " [7 8 9]]\n",
      "(3, 3)\n"
     ]
    }
   ],
   "source": [
    "#Reshape a 1D array of size 9 into a 3×3 matrix.\n",
    "arr3 = np.array([1,2,3,4,5,6,7,8,9])\n",
    "reshaped = arr3.reshape(3,3)\n",
    "print(reshaped)\n",
    "print(reshaped.shape)"
   ]
  },
  {
   "cell_type": "code",
   "execution_count": 77,
   "id": "8a60cffc-050c-46be-8e67-179d555d56b6",
   "metadata": {},
   "outputs": [
    {
     "name": "stdout",
     "output_type": "stream",
     "text": [
      "[22 51 11  3 31 11 77 30  1 88]\n",
      "[51 77 88]\n"
     ]
    }
   ],
   "source": [
    "#Use boolean masking to filter numbers greater than 50 in an array.\n",
    "arr4 = np.random.randint(1,100,size=10)\n",
    "print(arr4)\n",
    "mask = arr4>50\n",
    "print(arr4[mask])"
   ]
  }
 ],
 "metadata": {
  "kernelspec": {
   "display_name": "Python [conda env:base] *",
   "language": "python",
   "name": "conda-base-py"
  },
  "language_info": {
   "codemirror_mode": {
    "name": "ipython",
    "version": 3
   },
   "file_extension": ".py",
   "mimetype": "text/x-python",
   "name": "python",
   "nbconvert_exporter": "python",
   "pygments_lexer": "ipython3",
   "version": "3.12.7"
  }
 },
 "nbformat": 4,
 "nbformat_minor": 5
}
